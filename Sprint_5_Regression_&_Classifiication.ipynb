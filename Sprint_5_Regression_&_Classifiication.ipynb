{
  "nbformat": 4,
  "nbformat_minor": 0,
  "metadata": {
    "colab": {
      "name": "Sprint 5: Regression & Classifiication",
      "version": "0.3.2",
      "provenance": [],
      "include_colab_link": true
    },
    "kernelspec": {
      "name": "python3",
      "display_name": "Python 3"
    }
  },
  "cells": [
    {
      "cell_type": "markdown",
      "metadata": {
        "id": "view-in-github",
        "colab_type": "text"
      },
      "source": [
        "<a href=\"https://colab.research.google.com/github/AdrianduPlessis/DS-Unit-2-Regression-Classification/blob/master/Sprint_5_Regression_%26_Classifiication.ipynb\" target=\"_parent\"><img src=\"https://colab.research.google.com/assets/colab-badge.svg\" alt=\"Open In Colab\"/></a>"
      ]
    },
    {
      "cell_type": "markdown",
      "metadata": {
        "id": "AgrGSSsZozab",
        "colab_type": "text"
      },
      "source": [
        "#Part 1, Classification"
      ]
    },
    {
      "cell_type": "markdown",
      "metadata": {
        "id": "rmkyYR7KpBjv",
        "colab_type": "text"
      },
      "source": [
        "##1.1 Baselines for classification"
      ]
    },
    {
      "cell_type": "code",
      "metadata": {
        "id": "b4Q2iCr0qBul",
        "colab_type": "code",
        "colab": {}
      },
      "source": [
        "#Determine majority classp']\n",
        "y_train.value_counts(normalize=True)\n",
        "\n",
        "#Majority_class prediction accuracy\n",
        "majority_class = y_train.mode()[0]\n",
        "y_base_pred = [majority_class] * len(y_train)\n",
        "\n",
        "#Accuracy of majority class baseline = frequency of the majority class\n",
        "from sklearn.metrics import accuracy_score\n",
        "print(accuracy_score(y_test, y_pred))"
      ],
      "execution_count": 0,
      "outputs": []
    },
    {
      "cell_type": "markdown",
      "metadata": {
        "id": "pQn8xbCApB04",
        "colab_type": "text"
      },
      "source": [
        "##1.2 Train/test split. Arrange data into X features matrix and y target vector"
      ]
    },
    {
      "cell_type": "code",
      "metadata": {
        "id": "8Bf259HaqCII",
        "colab_type": "code",
        "colab": {}
      },
      "source": [
        "import pandas as pd\n",
        "from sklearn.linear_model import LogisticRegression\n",
        "\n",
        "#read in the data\n",
        "df = pd.read_csv('some.csv')\n",
        "\n",
        "#split the data\n",
        "target = 'target_feature'\n",
        "X = df.drop(target)\n",
        "y = df[target]\n",
        "\n",
        "#train-test-split or some other validation split\n",
        "X_train, X_test, y_train, y_test = train_test_split(X, y, \n",
        "                                    test_size=0.2, random_state=42, stratify=y)\n"
      ],
      "execution_count": 0,
      "outputs": []
    },
    {
      "cell_type": "markdown",
      "metadata": {
        "id": "269V--F6pB5_",
        "colab_type": "text"
      },
      "source": [
        "##1.3 Use scikit-learn to fit a logistic regression model"
      ]
    },
    {
      "cell_type": "code",
      "metadata": {
        "id": "D6pD_5fWqDOz",
        "colab_type": "code",
        "colab": {}
      },
      "source": [
        "from sklearn.linear_model import LogisticRegression\n",
        "#instantiate and fit the model\n",
        "log_reg = LogisticRegression(solver='lbfgs')\n",
        "log_reg.fit(X_train, y_train)\n",
        "\n",
        "#make predictions\n",
        "y_pred = log_reg.predict(X_test)"
      ],
      "execution_count": 0,
      "outputs": []
    },
    {
      "cell_type": "markdown",
      "metadata": {
        "id": "vjktaEWJpCAd",
        "colab_type": "text"
      },
      "source": [
        "##1.4 Report classification metric: accuracy"
      ]
    },
    {
      "cell_type": "code",
      "metadata": {
        "id": "0FM7Z2FbqDwA",
        "colab_type": "code",
        "colab": {}
      },
      "source": [
        "#Accuracy of majority class baseline = frequency of the majority class\n",
        "from sklearn.metrics import accuracy_score\n",
        "accuracy_score(y_test, y_pred)"
      ],
      "execution_count": 0,
      "outputs": []
    },
    {
      "cell_type": "markdown",
      "metadata": {
        "id": "Wnm76l6fozdI",
        "colab_type": "text"
      },
      "source": [
        "#Part 2, Regression"
      ]
    },
    {
      "cell_type": "markdown",
      "metadata": {
        "id": "K2u_rvDDpbl0",
        "colab_type": "text"
      },
      "source": [
        "##2.1 Baselines for regression"
      ]
    },
    {
      "cell_type": "markdown",
      "metadata": {
        "id": "UcBlB5fkwYK9",
        "colab_type": "text"
      },
      "source": [
        "Get rid of outliers than use \"mean baseline\""
      ]
    },
    {
      "cell_type": "code",
      "metadata": {
        "id": "mRYcBVQVx8eu",
        "colab_type": "code",
        "colab": {}
      },
      "source": [
        "#Removing Outliers, df must contain all numeric features\n",
        "df = df[(np.abs(stats.zscore(df)) < 3).all(axis=1)]"
      ],
      "execution_count": 0,
      "outputs": []
    },
    {
      "cell_type": "code",
      "metadata": {
        "id": "iY8zj9nZvARb",
        "colab_type": "code",
        "colab": {}
      },
      "source": [
        "df.describe()\n",
        "#or\n",
        "mean(df.[target])"
      ],
      "execution_count": 0,
      "outputs": []
    },
    {
      "cell_type": "markdown",
      "metadata": {
        "id": "vNBdE-zApbn-",
        "colab_type": "text"
      },
      "source": [
        "##2.2 Train/Validate/Test split"
      ]
    },
    {
      "cell_type": "markdown",
      "metadata": {
        "id": "cQKhplm6zYCt",
        "colab_type": "text"
      },
      "source": [
        "Normal"
      ]
    },
    {
      "cell_type": "code",
      "metadata": {
        "id": "o1J2kPOOvAol",
        "colab_type": "code",
        "colab": {}
      },
      "source": [
        "X_train, X_test, y_train, y_test \n",
        "    = train_test_split(X, y, test_size=0.2, random_state=1)\n",
        "\n",
        " X_train, X_val, y_train, y_val \n",
        "    = train_test_split(X_train, y_train, test_size=0.2, random_state=1)"
      ],
      "execution_count": 0,
      "outputs": []
    },
    {
      "cell_type": "markdown",
      "metadata": {
        "id": "GgTUU9M_zZfA",
        "colab_type": "text"
      },
      "source": [
        "Split before seperating features from target"
      ]
    },
    {
      "cell_type": "code",
      "metadata": {
        "id": "d3dEoXv-ziR1",
        "colab_type": "code",
        "colab": {}
      },
      "source": [
        "train, test = train_test_split(df, test_size=0.2, random_state=42)"
      ],
      "execution_count": 0,
      "outputs": []
    },
    {
      "cell_type": "markdown",
      "metadata": {
        "id": "jIwzNC7PpbqB",
        "colab_type": "text"
      },
      "source": [
        "##2.3 Arrange data into X features matrix and y target vector"
      ]
    },
    {
      "cell_type": "markdown",
      "metadata": {
        "id": "FKCqBvCf0RAn",
        "colab_type": "text"
      },
      "source": [
        "Normal"
      ]
    },
    {
      "cell_type": "code",
      "metadata": {
        "id": "sMX1yKxLvBBM",
        "colab_type": "code",
        "colab": {}
      },
      "source": [
        "#split the data\n",
        "target = 'target_feature'\n",
        "X = df.drop(target)\n",
        "y = df[target]"
      ],
      "execution_count": 0,
      "outputs": []
    },
    {
      "cell_type": "markdown",
      "metadata": {
        "id": "pmY51eMp0SqS",
        "colab_type": "text"
      },
      "source": [
        "Split before seperating features from target"
      ]
    },
    {
      "cell_type": "code",
      "metadata": {
        "id": "9p3ApCFE0Y4X",
        "colab_type": "code",
        "colab": {}
      },
      "source": [
        "#split the data\n",
        "target = 'target_feature'\n",
        "\n",
        "X_train = train.drop(target)\n",
        "y_train = train[target]\n",
        "\n",
        "X_test = test.drop(target)\n",
        "y_test = test[target]"
      ],
      "execution_count": 0,
      "outputs": []
    },
    {
      "cell_type": "markdown",
      "metadata": {
        "id": "fJ2UllO9pbr8",
        "colab_type": "text"
      },
      "source": [
        "##2.4 Do one-hot encoding"
      ]
    },
    {
      "cell_type": "code",
      "metadata": {
        "id": "NztdP_4DHP3u",
        "colab_type": "code",
        "colab": {}
      },
      "source": [
        "#Find cardinality\n",
        "X_train.describe(exclude = 'number').T.sort_values(by = 'unique')"
      ],
      "execution_count": 0,
      "outputs": []
    },
    {
      "cell_type": "code",
      "metadata": {
        "id": "In7bKcA7E_lK",
        "colab_type": "code",
        "colab": {}
      },
      "source": [
        "categorical_features = ['source_class', 'source_type', 'extraction_type_class' ]\n",
        "numeric_features = X_train.select_dtypes('number').columns.drop('id').tolist()\n",
        "features = categorical_features + numeric_features"
      ],
      "execution_count": 0,
      "outputs": []
    },
    {
      "cell_type": "code",
      "metadata": {
        "id": "eIRI1GNsvBez",
        "colab_type": "code",
        "colab": {}
      },
      "source": [
        "!pip install category_encoders\n",
        "import category_encoders as ce\n",
        "\n",
        "#one hot encode all string columns\n",
        "encoder = ce.OneHotEncoder(use_cat_names=True)\n",
        "X_train_encoded = encoder.fit_transform(X_train[features])\n",
        "#X_val_encoded = encoder.transform(X_train[categorical_features])"
      ],
      "execution_count": 0,
      "outputs": []
    },
    {
      "cell_type": "markdown",
      "metadata": {
        "id": "idPEK3OyMCVH",
        "colab_type": "text"
      },
      "source": [
        "###Scaling"
      ]
    },
    {
      "cell_type": "code",
      "metadata": {
        "id": "Ln7_ZdUtMEXs",
        "colab_type": "code",
        "colab": {}
      },
      "source": [
        "#scaler!!\n",
        "scaler = StandardScaler()\n",
        "X_train_scaled = scaler.fit_transform(X_train_encoded)\n",
        "X_val_scaled = scaler.transform(X_val_encoded)"
      ],
      "execution_count": 0,
      "outputs": []
    },
    {
      "cell_type": "markdown",
      "metadata": {
        "id": "6Q7FGLCRpbt2",
        "colab_type": "text"
      },
      "source": [
        "##2.5 Use scikit-learn to fit a linear regression (or ridge regression) model"
      ]
    },
    {
      "cell_type": "code",
      "metadata": {
        "id": "uDl8oC89vB7j",
        "colab_type": "code",
        "colab": {}
      },
      "source": [
        "#Linear Regression Model and Errors\n",
        "from sklearn.linear_model import LinearRegression\n",
        "from sklearn.metrics import mean_absolute_error, mean_squared_error, r2_score\n",
        "\n",
        "model = LinearRegression()\n",
        "model.fit(X,y)\n",
        "X_test['prediction'] = model.predict(X_test[[feature]])\n",
        "\n"
      ],
      "execution_count": 0,
      "outputs": []
    },
    {
      "cell_type": "markdown",
      "metadata": {
        "id": "KjA5Koeppchc",
        "colab_type": "text"
      },
      "source": [
        "##2.6 Report validation MAE and R^2"
      ]
    },
    {
      "cell_type": "code",
      "metadata": {
        "id": "LqM4iDu8vCdR",
        "colab_type": "code",
        "colab": {}
      },
      "source": [
        "print('Feature:',feature)\n",
        "print('MSE:',mean_squared_error(y_true=y_test, y_pred=X_test['prediction']))\n",
        "print('Sqrt(MSE):',np.sqrt(mean_squared_error(y_true=y_test, y_pred=X_test['prediction'])))\n",
        "print('R2_Score:',r2_score(y_test,model.predict(X_test[[feature]])))\n",
        "\n",
        "X_test.plot(x=feature,y='prediction',kind='line',color='r')\n",
        "plt.scatter(x=X_test[[feature]],y=y_test)\n",
        "plt.show()"
      ],
      "execution_count": 0,
      "outputs": []
    },
    {
      "cell_type": "markdown",
      "metadata": {
        "id": "zCFo6P2Zozf_",
        "colab_type": "text"
      },
      "source": [
        "#Stretch Goals, Regression"
      ]
    }
  ]
}